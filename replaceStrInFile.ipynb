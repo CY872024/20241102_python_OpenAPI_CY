{
 "cells": [
  {
   "cell_type": "code",
   "execution_count": 94,
   "metadata": {},
   "outputs": [
    {
     "name": "stdout",
     "output_type": "stream",
     "text": [
      "END\n"
     ]
    }
   ],
   "source": [
    "DistlistfilePath = 'r.csv'\n",
    "NewDistlistfilePath = 'w.csv'\n",
    "listFilePath = 'name.lst'       \n",
    "newDistlistline = ''\n",
    "distlistline = ''\n",
    "\n",
    "res = []\n",
    "# Scan file\n",
    "with open(DistlistfilePath, 'r') as Distlistfile:\n",
    "    DistlistFileContent = Distlistfile.readlines()\n",
    "    \n",
    "    for distlistLineIndex in range(len(DistlistFileContent)):\n",
    "\n",
    "        with open(listFilePath, 'r') as listFile:\n",
    "            listFileContent = listFile.readlines()\n",
    "\n",
    "            \n",
    "            # Find line, where modification should be done\n",
    "            for listLineIndex in range(len(listFileContent)):\n",
    "                # print(listFileContent[listLineIndex])\n",
    "                list_of_items_in_listline = listFileContent[listLineIndex].split(\",\")\n",
    "                list_BA = list_of_items_in_listline[0]\n",
    "                list_name = list_of_items_in_listline[1].rstrip() #remove line break\n",
    "                list_addr = list_of_items_in_listline[2].rstrip() #remove line break\n",
    "                #print(f'list_first_item:{list_first_item}')\n",
    "                #print(f'list_second_item:{list_second_item}')\n",
    "\n",
    "        \n",
    "                distlistline = DistlistFileContent[distlistLineIndex]\n",
    "                list_of_items_in_distlistline = distlistline.split(\"|\")\n",
    "                distlist_BA = list_of_items_in_distlistline[0]\n",
    "                distlist_addr = list_of_items_in_distlistline[1]\n",
    "                distlist_name = list_of_items_in_distlistline[2]\n",
    "                distlist_amt = list_of_items_in_distlistline[3]\n",
    "\n",
    "                \n",
    "                if(list_BA == distlist_BA):\n",
    "                    newDistlistline = distlistline.replace(distlist_name,list_name)\n",
    "                    newDistlistline = newDistlistline.replace(distlist_addr,list_addr)\n",
    "                    break\n",
    "                else:\n",
    "                    newDistlistline = distlistline\n",
    "                \n",
    "            res.append(newDistlistline)\n",
    "\n",
    "\n",
    "    with open(NewDistlistfilePath, 'w') as NewDistlistfile:\n",
    "        for line in res:\n",
    "            NewDistlistfile.write(line)\n",
    "\n",
    "\n",
    "\n",
    "print(\"END\")\n",
    "\n"
   ]
  }
 ],
 "metadata": {
  "kernelspec": {
   "display_name": "base",
   "language": "python",
   "name": "python3"
  },
  "language_info": {
   "codemirror_mode": {
    "name": "ipython",
    "version": 3
   },
   "file_extension": ".py",
   "mimetype": "text/x-python",
   "name": "python",
   "nbconvert_exporter": "python",
   "pygments_lexer": "ipython3",
   "version": "3.12.3"
  }
 },
 "nbformat": 4,
 "nbformat_minor": 2
}
