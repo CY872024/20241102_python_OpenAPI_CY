{
 "cells": [
  {
   "cell_type": "code",
   "execution_count": null,
   "metadata": {},
   "outputs": [],
   "source": []
  },
  {
   "cell_type": "code",
   "execution_count": null,
   "metadata": {},
   "outputs": [
    {
     "name": "stdout",
     "output_type": "stream",
     "text": [
      "Apple\n",
      "20\n",
      "=============\n",
      "Banana\n",
      "10\n",
      "=============\n",
      "Cherry\n",
      "30\n",
      "=============\n",
      "Cherry\n",
      "30\n",
      "=============\n",
      "Banana\n",
      "10\n",
      "=============\n",
      "Apple\n",
      "20\n",
      "=============\n"
     ]
    }
   ],
   "source": [
    "class Item:\n",
    "    def __init__(self, name:str, price:int):\n",
    "        self.name = name\n",
    "        self.price = price\n",
    "\n",
    "items = [\n",
    "        Item(\"Apple\",20),\n",
    "        Item(\"Banana\",10),\n",
    "        Item(\"Cherry\",30)]\n",
    "\n",
    "def abc(x:Item)->int:\n",
    "    #return x.price\n",
    "    return x.name\n",
    "\n",
    "newItems = sorted(items,key=abc)\n",
    "for item in newItems:\n",
    "    print(item.name)\n",
    "    print(item.price)\n",
    "    print(\"=============\")\n",
    "\n",
    "newItems = sorted(items,key=lambda x:x.name, reverse=True)\n",
    "for item in newItems:\n",
    "    print(item.name)\n",
    "    print(item.price)\n",
    "    print(\"=============\")"
   ]
  },
  {
   "cell_type": "code",
   "execution_count": 14,
   "metadata": {},
   "outputs": [
    {
     "data": {
      "text/plain": [
       "('Apple', 20)"
      ]
     },
     "execution_count": 14,
     "metadata": {},
     "output_type": "execute_result"
    }
   ],
   "source": [
    "item:dict= {\"name\":\"Apple\",\n",
    "            \"price\":20}\n",
    "\n",
    "item['name'], item['price']"
   ]
  }
 ],
 "metadata": {
  "kernelspec": {
   "display_name": "base",
   "language": "python",
   "name": "python3"
  },
  "language_info": {
   "codemirror_mode": {
    "name": "ipython",
    "version": 3
   },
   "file_extension": ".py",
   "mimetype": "text/x-python",
   "name": "python",
   "nbconvert_exporter": "python",
   "pygments_lexer": "ipython3",
   "version": "3.12.3"
  }
 },
 "nbformat": 4,
 "nbformat_minor": 2
}
