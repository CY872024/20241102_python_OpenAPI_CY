{
 "cells": [
  {
   "cell_type": "code",
   "execution_count": 4,
   "metadata": {},
   "outputs": [
    {
     "data": {
      "text/plain": [
       "[{'name': 'Apple', 'price': 30},\n",
       " {'name': 'Banana', 'price': 20},\n",
       " {'name': 'Cherry', 'price': 10}]"
      ]
     },
     "execution_count": 4,
     "metadata": {},
     "output_type": "execute_result"
    }
   ],
   "source": [
    "items:list[dict] =[\n",
    "    {\"name\":\"Apple\",\"price\":30},\n",
    "    {\"name\":\"Banana\",\"price\":20},\n",
    "    {\"name\":\"Cherry\",\"price\":10}\n",
    "]\n",
    "\n",
    "sorted(items,key=lambda x:x['price'],reverse=True)"
   ]
  },
  {
   "cell_type": "code",
   "execution_count": 6,
   "metadata": {},
   "outputs": [
    {
     "data": {
      "text/plain": [
       "('robert', 35, 180, 80)"
      ]
     },
     "execution_count": 6,
     "metadata": {},
     "output_type": "execute_result"
    }
   ],
   "source": [
    "name, age, height, weight = 'robert', 35, 180, 80\n",
    "name, age, height, weight"
   ]
  },
  {
   "cell_type": "code",
   "execution_count": 15,
   "metadata": {},
   "outputs": [
    {
     "name": "stdout",
     "output_type": "stream",
     "text": [
      "<built-in method index of str object at 0x00007FFB9FC916E0>\n",
      "name\n",
      "<built-in method index of str object at 0x000001D42D512160>\n",
      "price\n"
     ]
    }
   ],
   "source": [
    "for key in  {\"name\":\"Apple\",\"price\":30}.keys():\n",
    "    print(key.index)\n",
    "    print(key)"
   ]
  },
  {
   "cell_type": "code",
   "execution_count": 16,
   "metadata": {},
   "outputs": [
    {
     "name": "stdout",
     "output_type": "stream",
     "text": [
      "Apple\n",
      "30\n"
     ]
    }
   ],
   "source": [
    "for value in  {\"name\":\"Apple\",\"price\":30}.values():\n",
    "    print(value)"
   ]
  },
  {
   "cell_type": "code",
   "execution_count": null,
   "metadata": {},
   "outputs": [
    {
     "name": "stdout",
     "output_type": "stream",
     "text": [
      "key= name\n",
      "value= Apple\n",
      "key= price\n",
      "value= 30\n"
     ]
    }
   ],
   "source": [
    "for key,value in  {\"name\":\"Apple\",\"price\":30}.items():\n",
    "    print(\"key=\",key)\n",
    "    print(\"value=\",value)"
   ]
  },
  {
   "cell_type": "code",
   "execution_count": null,
   "metadata": {},
   "outputs": [],
   "source": []
  },
  {
   "cell_type": "code",
   "execution_count": 12,
   "metadata": {},
   "outputs": [
    {
     "name": "stdout",
     "output_type": "stream",
     "text": [
      "========== 1\n",
      "element= {'name': 'Apple', 'price': 30}\n",
      "element type= <class 'dict'>\n",
      "key= name\n",
      "value= Apple\n",
      "key= price\n",
      "value= 30\n",
      "========== 2\n",
      "element= {'name': 'Banana', 'price': 20}\n",
      "element type= <class 'dict'>\n",
      "key= name\n",
      "value= Banana\n",
      "key= price\n",
      "value= 20\n",
      "========== 3\n",
      "element= {'name': 'Cherry', 'price': 10}\n",
      "element type= <class 'dict'>\n",
      "key= name\n",
      "value= Cherry\n",
      "key= price\n",
      "value= 10\n"
     ]
    }
   ],
   "source": [
    "items:list[dict] =[\n",
    "    {\"name\":\"Apple\",\"price\":30},\n",
    "    {\"name\":\"Banana\",\"price\":20},\n",
    "    {\"name\":\"Cherry\",\"price\":10}\n",
    "]\n",
    "\n",
    "i = 0\n",
    "for element in items:\n",
    "    i = i+1\n",
    "    print(\"==========\", i)\n",
    "    print(\"element=\", element)\n",
    "    print(\"element type=\", type(element))\n",
    "    for key,value in element.items():\n",
    "        print(\"key=\",key)\n",
    "        print(\"value=\",value)"
   ]
  }
 ],
 "metadata": {
  "kernelspec": {
   "display_name": "base",
   "language": "python",
   "name": "python3"
  },
  "language_info": {
   "codemirror_mode": {
    "name": "ipython",
    "version": 3
   },
   "file_extension": ".py",
   "mimetype": "text/x-python",
   "name": "python",
   "nbconvert_exporter": "python",
   "pygments_lexer": "ipython3",
   "version": "3.12.3"
  }
 },
 "nbformat": 4,
 "nbformat_minor": 2
}
