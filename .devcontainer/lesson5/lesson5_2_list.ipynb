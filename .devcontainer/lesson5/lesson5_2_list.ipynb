{
 "cells": [
  {
   "cell_type": "code",
   "execution_count": 14,
   "metadata": {},
   "outputs": [
    {
     "name": "stdout",
     "output_type": "stream",
     "text": [
      "[1, 10, 35, 85, 91, 100, 127]\n",
      "[127, 100, 91, 85, 35, 10, 1]\n",
      "[1, 10, 100, 127, 35, 85, 91]\n"
     ]
    }
   ],
   "source": [
    "number:list[int] = [1,10,100,127,91,85]\n",
    "number.append(35)\n",
    "number.append(45)\n",
    "number.pop()\n",
    "number.sort()\n",
    "print(number)\n",
    "number.sort(reverse=True)\n",
    "print(number)\n",
    "x = sorted(number, key=str)\n",
    "print(x)"
   ]
  }
 ],
 "metadata": {
  "kernelspec": {
   "display_name": "base",
   "language": "python",
   "name": "python3"
  },
  "language_info": {
   "codemirror_mode": {
    "name": "ipython",
    "version": 3
   },
   "file_extension": ".py",
   "mimetype": "text/x-python",
   "name": "python",
   "nbconvert_exporter": "python",
   "pygments_lexer": "ipython3",
   "version": "3.12.3"
  }
 },
 "nbformat": 4,
 "nbformat_minor": 2
}
