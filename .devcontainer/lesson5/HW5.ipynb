{
 "cells": [
  {
   "cell_type": "code",
   "execution_count": 6,
   "metadata": {},
   "outputs": [
    {
     "name": "stdout",
     "output_type": "stream",
     "text": [
      "本期大樂透電腦選號號碼如下:\n",
      "9 15 24 26 28 31 21\n",
      "特別號: 21\n"
     ]
    }
   ],
   "source": [
    "#============================================================================\n",
    "#Name        : biglottery.py\n",
    "#撰寫一個大樂透電腦自動選號程式，程式執行會以亂數的方式顯示1-49之間七個不重複的大樂透號碼。\n",
    "#============================================================\n",
    "\n",
    "import random\n",
    "\n",
    "def main():\n",
    "    listRandom = random.sample(range(0, 49), 7)\n",
    "    #print(listRandom)\n",
    "    numSpecial = listRandom[-1]\n",
    "    listRandom.pop()\n",
    "    listRandom.sort()\n",
    "    print(\"本期大樂透電腦選號號碼如下:\")\n",
    "    for element in listRandom:\n",
    "        print(element, end=\" \")\n",
    "    print(numSpecial)\n",
    "    print(\"特別號:\", numSpecial)\n",
    "\n",
    "if __name__ == '__main__':\n",
    "    main()"
   ]
  }
 ],
 "metadata": {
  "kernelspec": {
   "display_name": "base",
   "language": "python",
   "name": "python3"
  },
  "language_info": {
   "codemirror_mode": {
    "name": "ipython",
    "version": 3
   },
   "file_extension": ".py",
   "mimetype": "text/x-python",
   "name": "python",
   "nbconvert_exporter": "python",
   "pygments_lexer": "ipython3",
   "version": "3.12.3"
  }
 },
 "nbformat": 4,
 "nbformat_minor": 2
}
