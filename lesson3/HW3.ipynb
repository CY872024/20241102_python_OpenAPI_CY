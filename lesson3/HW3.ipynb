{
 "cells": [
  {
   "cell_type": "code",
   "execution_count": 46,
   "metadata": {},
   "outputs": [
    {
     "name": "stdout",
     "output_type": "stream",
     "text": [
      "16uu,身高格式錯誤,請輸入數字!\n",
      "68kg,體重格式錯誤,請輸入數字!\n",
      "您的BMI是:24.09\n",
      "您的體重是:68.0\n",
      "您的BMI指數:體重過重\n"
     ]
    }
   ],
   "source": [
    "def get_status(bmi:float)->str:\n",
    "    outStatus = \"\"\n",
    "    if bmi >= 35 :\n",
    "        outStatus = '重度肥胖'\n",
    "    elif bmi >= 30 :\n",
    "        outStatus = '中度肥胖'\n",
    "    elif bmi >= 27 :\n",
    "        outStatus = '輕度肥胖'\n",
    "    elif bmi >= 24 :\n",
    "        outStatus = '體重過重'\n",
    "    elif bmi >= 18.5 :\n",
    "        outStatus = '正常範圍'\n",
    "    else :\n",
    "        outStatus = '體重過輕' \n",
    "    return outStatus\n",
    "\n",
    "def calculate_bmi(inHeigh:float,inWeight:float)->float:\n",
    "    outBMI = round(inWeight / ((inHeigh/100)**2), 2)\n",
    "    return outBMI\n",
    "\n",
    "while(True):\n",
    "    try:\n",
    "        inputheigh=input('請輸入身高(cm):')\n",
    "        heigh = float(inputheigh)\n",
    "        break\n",
    "    except Exception:\n",
    "        print(inputheigh+\",身高格式錯誤,請輸入數字!\")\n",
    "        continue\n",
    "\n",
    "while(True):\n",
    "    try:\n",
    "        inputweight=input('請輸入體重(kg)')\n",
    "        weight = float(inputweight)\n",
    "        break\n",
    "    except Exception:\n",
    "        print(inputweight+\",體重格式錯誤,請輸入數字!\")\n",
    "        continue\n",
    "               \n",
    "BMI = calculate_bmi(heigh,weight)\n",
    "status = get_status(BMI)\n",
    "\n",
    "print(f'您的BMI是:{BMI}')\n",
    "print(f'您的體重是:{weight}')\n",
    "print(f'您的BMI指數:{status}')"
   ]
  }
 ],
 "metadata": {
  "kernelspec": {
   "display_name": "base",
   "language": "python",
   "name": "python3"
  },
  "language_info": {
   "codemirror_mode": {
    "name": "ipython",
    "version": 3
   },
   "file_extension": ".py",
   "mimetype": "text/x-python",
   "name": "python",
   "nbconvert_exporter": "python",
   "pygments_lexer": "ipython3",
   "version": "3.12.3"
  }
 },
 "nbformat": 4,
 "nbformat_minor": 2
}
