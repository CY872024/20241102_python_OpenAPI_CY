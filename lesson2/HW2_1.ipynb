{
 "cells": [
  {
   "cell_type": "code",
   "execution_count": 8,
   "metadata": {},
   "outputs": [
    {
     "name": "stdout",
     "output_type": "stream",
     "text": [
      "您的BMI是:24\n",
      "您的體重是:69\n"
     ]
    }
   ],
   "source": [
    "try:\n",
    "    heigh = int(input('請輸入身高(cm):'))\n",
    "    weight = int(input('請輸入體重(kg)'))\n",
    "    BMI = int(weight / ((heigh/100)**2))\n",
    "except ValueError:\n",
    "    print(\"格式錯誤\")\n",
    "except Exception:\n",
    "    print(\"不知名錯誤\")\n",
    "print(f'您的BMI是:{BMI}')\n",
    "print(f'您的體重是:{weight}')"
   ]
  }
 ],
 "metadata": {
  "kernelspec": {
   "display_name": "base",
   "language": "python",
   "name": "python3"
  },
  "language_info": {
   "codemirror_mode": {
    "name": "ipython",
    "version": 3
   },
   "file_extension": ".py",
   "mimetype": "text/x-python",
   "name": "python",
   "nbconvert_exporter": "python",
   "pygments_lexer": "ipython3",
   "version": "3.12.2"
  }
 },
 "nbformat": 4,
 "nbformat_minor": 2
}
